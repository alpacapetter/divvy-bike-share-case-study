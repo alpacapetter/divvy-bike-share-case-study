{
 "cells": [
  {
   "cell_type": "markdown",
   "metadata": {},
   "source": [
    "## Divvy bike share case study: How to turn casual riders into annual members"
   ]
  },
  {
   "cell_type": "markdown",
   "metadata": {},
   "source": [
    "<br>"
   ]
  },
  {
   "cell_type": "markdown",
   "metadata": {},
   "source": [
    "### Table of Content"
   ]
  },
  {
   "cell_type": "markdown",
   "metadata": {},
   "source": [
    "1. Introduction\n",
    "1. Posing Questions\n",
    "1. Data Collection\n",
    "    1. Dataset Overview\n",
    "    1.Data Cleaning\n",
    "1. Exploratory Data Analysis\n",
    "1. Conclusion"
   ]
  },
  {
   "cell_type": "markdown",
   "metadata": {},
   "source": [
    "<br>"
   ]
  },
  {
   "cell_type": "markdown",
   "metadata": {},
   "source": [
    "### Introduction"
   ]
  },
  {
   "cell_type": "markdown",
   "metadata": {},
   "source": [
    "This analysis was made for a case study project"
   ]
  },
  {
   "cell_type": "code",
   "execution_count": null,
   "metadata": {},
   "outputs": [],
   "source": []
  },
  {
   "cell_type": "markdown",
   "metadata": {},
   "source": [
    "### Posing Questions"
   ]
  },
  {
   "cell_type": "markdown",
   "metadata": {},
   "source": [
    "The purpose..."
   ]
  },
  {
   "cell_type": "markdown",
   "metadata": {},
   "source": [
    "### Data Collection"
   ]
  },
  {
   "cell_type": "markdown",
   "metadata": {},
   "source": [
    "Data used has been made available by Motivate Internatinoal Inc. for public use under [this license.](https://www.divvybikes.com/data-license-agreement)"
   ]
  },
  {
   "cell_type": "markdown",
   "metadata": {},
   "source": [
    "A. Dataset Overview"
   ]
  },
  {
   "cell_type": "code",
   "execution_count": 1,
   "metadata": {},
   "outputs": [],
   "source": [
    "import pandas as pd\n",
    "from glob import glob\n",
    "import datetime as dt\n",
    "import matplotlib as mpl\n",
    "import matplotlib.pyplot as plt\n",
    "import numpy as np"
   ]
  },
  {
   "cell_type": "code",
   "execution_count": 2,
   "metadata": {},
   "outputs": [],
   "source": [
    "plt.style.use(['seaborn-notebook'])"
   ]
  },
  {
   "cell_type": "markdown",
   "metadata": {},
   "source": [
    "Let's take a look at one month of the original dataset."
   ]
  },
  {
   "cell_type": "code",
   "execution_count": 3,
   "metadata": {
    "scrolled": true
   },
   "outputs": [
    {
     "data": {
      "text/html": [
       "<div>\n",
       "<style scoped>\n",
       "    .dataframe tbody tr th:only-of-type {\n",
       "        vertical-align: middle;\n",
       "    }\n",
       "\n",
       "    .dataframe tbody tr th {\n",
       "        vertical-align: top;\n",
       "    }\n",
       "\n",
       "    .dataframe thead th {\n",
       "        text-align: right;\n",
       "    }\n",
       "</style>\n",
       "<table border=\"1\" class=\"dataframe\">\n",
       "  <thead>\n",
       "    <tr style=\"text-align: right;\">\n",
       "      <th></th>\n",
       "      <th>ride_id</th>\n",
       "      <th>rideable_type</th>\n",
       "      <th>started_at</th>\n",
       "      <th>ended_at</th>\n",
       "      <th>start_station_name</th>\n",
       "      <th>start_station_id</th>\n",
       "      <th>end_station_name</th>\n",
       "      <th>end_station_id</th>\n",
       "      <th>start_lat</th>\n",
       "      <th>start_lng</th>\n",
       "      <th>end_lat</th>\n",
       "      <th>end_lng</th>\n",
       "      <th>member_casual</th>\n",
       "    </tr>\n",
       "  </thead>\n",
       "  <tbody>\n",
       "    <tr>\n",
       "      <th>0</th>\n",
       "      <td>A847FADBBC638E45</td>\n",
       "      <td>docked_bike</td>\n",
       "      <td>2020-04-26 17:45:14</td>\n",
       "      <td>2020-04-26 18:12:03</td>\n",
       "      <td>Eckhart Park</td>\n",
       "      <td>86</td>\n",
       "      <td>Lincoln Ave &amp; Diversey Pkwy</td>\n",
       "      <td>152.0</td>\n",
       "      <td>41.8964</td>\n",
       "      <td>-87.6610</td>\n",
       "      <td>41.9322</td>\n",
       "      <td>-87.6586</td>\n",
       "      <td>member</td>\n",
       "    </tr>\n",
       "    <tr>\n",
       "      <th>1</th>\n",
       "      <td>5405B80E996FF60D</td>\n",
       "      <td>docked_bike</td>\n",
       "      <td>2020-04-17 17:08:54</td>\n",
       "      <td>2020-04-17 17:17:03</td>\n",
       "      <td>Drake Ave &amp; Fullerton Ave</td>\n",
       "      <td>503</td>\n",
       "      <td>Kosciuszko Park</td>\n",
       "      <td>499.0</td>\n",
       "      <td>41.9244</td>\n",
       "      <td>-87.7154</td>\n",
       "      <td>41.9306</td>\n",
       "      <td>-87.7238</td>\n",
       "      <td>member</td>\n",
       "    </tr>\n",
       "    <tr>\n",
       "      <th>2</th>\n",
       "      <td>5DD24A79A4E006F4</td>\n",
       "      <td>docked_bike</td>\n",
       "      <td>2020-04-01 17:54:13</td>\n",
       "      <td>2020-04-01 18:08:36</td>\n",
       "      <td>McClurg Ct &amp; Erie St</td>\n",
       "      <td>142</td>\n",
       "      <td>Indiana Ave &amp; Roosevelt Rd</td>\n",
       "      <td>255.0</td>\n",
       "      <td>41.8945</td>\n",
       "      <td>-87.6179</td>\n",
       "      <td>41.8679</td>\n",
       "      <td>-87.6230</td>\n",
       "      <td>member</td>\n",
       "    </tr>\n",
       "    <tr>\n",
       "      <th>3</th>\n",
       "      <td>2A59BBDF5CDBA725</td>\n",
       "      <td>docked_bike</td>\n",
       "      <td>2020-04-07 12:50:19</td>\n",
       "      <td>2020-04-07 13:02:31</td>\n",
       "      <td>California Ave &amp; Division St</td>\n",
       "      <td>216</td>\n",
       "      <td>Wood St &amp; Augusta Blvd</td>\n",
       "      <td>657.0</td>\n",
       "      <td>41.9030</td>\n",
       "      <td>-87.6975</td>\n",
       "      <td>41.8992</td>\n",
       "      <td>-87.6722</td>\n",
       "      <td>member</td>\n",
       "    </tr>\n",
       "    <tr>\n",
       "      <th>4</th>\n",
       "      <td>27AD306C119C6158</td>\n",
       "      <td>docked_bike</td>\n",
       "      <td>2020-04-18 10:22:59</td>\n",
       "      <td>2020-04-18 11:15:54</td>\n",
       "      <td>Rush St &amp; Hubbard St</td>\n",
       "      <td>125</td>\n",
       "      <td>Sheridan Rd &amp; Lawrence Ave</td>\n",
       "      <td>323.0</td>\n",
       "      <td>41.8902</td>\n",
       "      <td>-87.6262</td>\n",
       "      <td>41.9695</td>\n",
       "      <td>-87.6547</td>\n",
       "      <td>casual</td>\n",
       "    </tr>\n",
       "    <tr>\n",
       "      <th>...</th>\n",
       "      <td>...</td>\n",
       "      <td>...</td>\n",
       "      <td>...</td>\n",
       "      <td>...</td>\n",
       "      <td>...</td>\n",
       "      <td>...</td>\n",
       "      <td>...</td>\n",
       "      <td>...</td>\n",
       "      <td>...</td>\n",
       "      <td>...</td>\n",
       "      <td>...</td>\n",
       "      <td>...</td>\n",
       "      <td>...</td>\n",
       "    </tr>\n",
       "    <tr>\n",
       "      <th>84771</th>\n",
       "      <td>200E9CDFC5685AA0</td>\n",
       "      <td>docked_bike</td>\n",
       "      <td>2020-04-16 16:10:16</td>\n",
       "      <td>2020-04-16 16:23:11</td>\n",
       "      <td>Dearborn Pkwy &amp; Delaware Pl</td>\n",
       "      <td>140</td>\n",
       "      <td>Dearborn Pkwy &amp; Delaware Pl</td>\n",
       "      <td>140.0</td>\n",
       "      <td>41.8990</td>\n",
       "      <td>-87.6299</td>\n",
       "      <td>41.8990</td>\n",
       "      <td>-87.6299</td>\n",
       "      <td>member</td>\n",
       "    </tr>\n",
       "    <tr>\n",
       "      <th>84772</th>\n",
       "      <td>F58A8F2ABCB5D95B</td>\n",
       "      <td>docked_bike</td>\n",
       "      <td>2020-04-30 17:56:12</td>\n",
       "      <td>2020-04-30 18:15:21</td>\n",
       "      <td>Kimbark Ave &amp; 53rd St</td>\n",
       "      <td>322</td>\n",
       "      <td>Cottage Grove Ave &amp; 51st St</td>\n",
       "      <td>351.0</td>\n",
       "      <td>41.7996</td>\n",
       "      <td>-87.5947</td>\n",
       "      <td>41.8030</td>\n",
       "      <td>-87.6066</td>\n",
       "      <td>casual</td>\n",
       "    </tr>\n",
       "    <tr>\n",
       "      <th>84773</th>\n",
       "      <td>A3754693A80E4913</td>\n",
       "      <td>docked_bike</td>\n",
       "      <td>2020-04-24 19:57:33</td>\n",
       "      <td>2020-04-24 21:50:43</td>\n",
       "      <td>Sedgwick St &amp; Schiller St</td>\n",
       "      <td>236</td>\n",
       "      <td>Wells St &amp; Elm St</td>\n",
       "      <td>182.0</td>\n",
       "      <td>41.9076</td>\n",
       "      <td>-87.6386</td>\n",
       "      <td>41.9032</td>\n",
       "      <td>-87.6343</td>\n",
       "      <td>casual</td>\n",
       "    </tr>\n",
       "    <tr>\n",
       "      <th>84774</th>\n",
       "      <td>D610CABB67F7B744</td>\n",
       "      <td>docked_bike</td>\n",
       "      <td>2020-04-02 17:59:55</td>\n",
       "      <td>2020-04-02 18:42:26</td>\n",
       "      <td>Damen Ave &amp; Charleston St</td>\n",
       "      <td>310</td>\n",
       "      <td>Damen Ave &amp; Charleston St</td>\n",
       "      <td>310.0</td>\n",
       "      <td>41.9201</td>\n",
       "      <td>-87.6779</td>\n",
       "      <td>41.9201</td>\n",
       "      <td>-87.6779</td>\n",
       "      <td>casual</td>\n",
       "    </tr>\n",
       "    <tr>\n",
       "      <th>84775</th>\n",
       "      <td>79634521ABE4CF69</td>\n",
       "      <td>docked_bike</td>\n",
       "      <td>2020-04-04 01:31:27</td>\n",
       "      <td>2020-04-04 01:37:27</td>\n",
       "      <td>Clybourn Ave &amp; Division St</td>\n",
       "      <td>138</td>\n",
       "      <td>Clybourn Ave &amp; Division St</td>\n",
       "      <td>138.0</td>\n",
       "      <td>41.9046</td>\n",
       "      <td>-87.6406</td>\n",
       "      <td>41.9046</td>\n",
       "      <td>-87.6406</td>\n",
       "      <td>casual</td>\n",
       "    </tr>\n",
       "  </tbody>\n",
       "</table>\n",
       "<p>84776 rows × 13 columns</p>\n",
       "</div>"
      ],
      "text/plain": [
       "                ride_id rideable_type           started_at  \\\n",
       "0      A847FADBBC638E45   docked_bike  2020-04-26 17:45:14   \n",
       "1      5405B80E996FF60D   docked_bike  2020-04-17 17:08:54   \n",
       "2      5DD24A79A4E006F4   docked_bike  2020-04-01 17:54:13   \n",
       "3      2A59BBDF5CDBA725   docked_bike  2020-04-07 12:50:19   \n",
       "4      27AD306C119C6158   docked_bike  2020-04-18 10:22:59   \n",
       "...                 ...           ...                  ...   \n",
       "84771  200E9CDFC5685AA0   docked_bike  2020-04-16 16:10:16   \n",
       "84772  F58A8F2ABCB5D95B   docked_bike  2020-04-30 17:56:12   \n",
       "84773  A3754693A80E4913   docked_bike  2020-04-24 19:57:33   \n",
       "84774  D610CABB67F7B744   docked_bike  2020-04-02 17:59:55   \n",
       "84775  79634521ABE4CF69   docked_bike  2020-04-04 01:31:27   \n",
       "\n",
       "                  ended_at            start_station_name  start_station_id  \\\n",
       "0      2020-04-26 18:12:03                  Eckhart Park                86   \n",
       "1      2020-04-17 17:17:03     Drake Ave & Fullerton Ave               503   \n",
       "2      2020-04-01 18:08:36          McClurg Ct & Erie St               142   \n",
       "3      2020-04-07 13:02:31  California Ave & Division St               216   \n",
       "4      2020-04-18 11:15:54          Rush St & Hubbard St               125   \n",
       "...                    ...                           ...               ...   \n",
       "84771  2020-04-16 16:23:11   Dearborn Pkwy & Delaware Pl               140   \n",
       "84772  2020-04-30 18:15:21         Kimbark Ave & 53rd St               322   \n",
       "84773  2020-04-24 21:50:43     Sedgwick St & Schiller St               236   \n",
       "84774  2020-04-02 18:42:26     Damen Ave & Charleston St               310   \n",
       "84775  2020-04-04 01:37:27    Clybourn Ave & Division St               138   \n",
       "\n",
       "                  end_station_name  end_station_id  start_lat  start_lng  \\\n",
       "0      Lincoln Ave & Diversey Pkwy           152.0    41.8964   -87.6610   \n",
       "1                  Kosciuszko Park           499.0    41.9244   -87.7154   \n",
       "2       Indiana Ave & Roosevelt Rd           255.0    41.8945   -87.6179   \n",
       "3           Wood St & Augusta Blvd           657.0    41.9030   -87.6975   \n",
       "4       Sheridan Rd & Lawrence Ave           323.0    41.8902   -87.6262   \n",
       "...                            ...             ...        ...        ...   \n",
       "84771  Dearborn Pkwy & Delaware Pl           140.0    41.8990   -87.6299   \n",
       "84772  Cottage Grove Ave & 51st St           351.0    41.7996   -87.5947   \n",
       "84773            Wells St & Elm St           182.0    41.9076   -87.6386   \n",
       "84774    Damen Ave & Charleston St           310.0    41.9201   -87.6779   \n",
       "84775   Clybourn Ave & Division St           138.0    41.9046   -87.6406   \n",
       "\n",
       "       end_lat  end_lng member_casual  \n",
       "0      41.9322 -87.6586        member  \n",
       "1      41.9306 -87.7238        member  \n",
       "2      41.8679 -87.6230        member  \n",
       "3      41.8992 -87.6722        member  \n",
       "4      41.9695 -87.6547        casual  \n",
       "...        ...      ...           ...  \n",
       "84771  41.8990 -87.6299        member  \n",
       "84772  41.8030 -87.6066        casual  \n",
       "84773  41.9032 -87.6343        casual  \n",
       "84774  41.9201 -87.6779        casual  \n",
       "84775  41.9046 -87.6406        casual  \n",
       "\n",
       "[84776 rows x 13 columns]"
      ]
     },
     "execution_count": 3,
     "metadata": {},
     "output_type": "execute_result"
    }
   ],
   "source": [
    "pd.read_csv('./202004-202103-divvy-tripdata/202004-divvy-tripdata.csv')"
   ]
  },
  {
   "cell_type": "markdown",
   "metadata": {},
   "source": [
    "Since we have 12 months of data, and each month is a seperate csv file, let's concatenate all of them into a single dataset.\n",
    "\n",
    "First, select all the files in the folder with the same pattern using glob()"
   ]
  },
  {
   "cell_type": "code",
   "execution_count": 4,
   "metadata": {},
   "outputs": [
    {
     "data": {
      "text/plain": [
       "['./202004-202103-divvy-tripdata/202004-divvy-tripdata.csv',\n",
       " './202004-202103-divvy-tripdata/202005-divvy-tripdata.csv',\n",
       " './202004-202103-divvy-tripdata/202006-divvy-tripdata.csv',\n",
       " './202004-202103-divvy-tripdata/202007-divvy-tripdata.csv',\n",
       " './202004-202103-divvy-tripdata/202008-divvy-tripdata.csv',\n",
       " './202004-202103-divvy-tripdata/202009-divvy-tripdata.csv',\n",
       " './202004-202103-divvy-tripdata/202010-divvy-tripdata.csv',\n",
       " './202004-202103-divvy-tripdata/202011-divvy-tripdata.csv',\n",
       " './202004-202103-divvy-tripdata/202012-divvy-tripdata.csv',\n",
       " './202004-202103-divvy-tripdata/202101-divvy-tripdata.csv',\n",
       " './202004-202103-divvy-tripdata/202102-divvy-tripdata.csv',\n",
       " './202004-202103-divvy-tripdata/202103-divvy-tripdata.csv']"
      ]
     },
     "execution_count": 4,
     "metadata": {},
     "output_type": "execute_result"
    }
   ],
   "source": [
    "divvy_trip_data = glob('./202004-202103-divvy-tripdata/*divvy-tripdata.csv')\n",
    "divvy_trip_data"
   ]
  },
  {
   "cell_type": "markdown",
   "metadata": {},
   "source": [
    "Then use concat to congregate all the data into a single dataframe."
   ]
  },
  {
   "cell_type": "code",
   "execution_count": 5,
   "metadata": {},
   "outputs": [],
   "source": [
    "# parser used for changing \"started_at\" and \"ended_at\" column into datetime object\n",
    "d_parser = lambda x: dt.datetime.strptime(x, '%Y-%m-%d %H:%M:%S')\n",
    "main_df = pd.concat((pd.read_csv(file, parse_dates=['started_at','ended_at'], date_parser = d_parser) for file in divvy_trip_data), ignore_index=True)"
   ]
  },
  {
   "cell_type": "markdown",
   "metadata": {},
   "source": [
    "B. Data Cleaning"
   ]
  },
  {
   "cell_type": "markdown",
   "metadata": {},
   "source": [
    "There are a few NaN in the data. It seems like they are mainly columns related to \"station\"."
   ]
  },
  {
   "cell_type": "code",
   "execution_count": 6,
   "metadata": {},
   "outputs": [
    {
     "data": {
      "text/plain": [
       "ride_id                    0\n",
       "rideable_type              0\n",
       "started_at                 0\n",
       "ended_at                   0\n",
       "start_station_name    122175\n",
       "start_station_id      122801\n",
       "end_station_name      143242\n",
       "end_station_id        143703\n",
       "start_lat                  0\n",
       "start_lng                  0\n",
       "end_lat                 4738\n",
       "end_lng                 4738\n",
       "member_casual              0\n",
       "dtype: int64"
      ]
     },
     "execution_count": 6,
     "metadata": {},
     "output_type": "execute_result"
    }
   ],
   "source": [
    "main_df.isna().sum()"
   ]
  },
  {
   "cell_type": "code",
   "execution_count": 7,
   "metadata": {},
   "outputs": [],
   "source": [
    "nan_df = main_df[main_df.isna().any(axis=1)]"
   ]
  },
  {
   "cell_type": "code",
   "execution_count": 8,
   "metadata": {},
   "outputs": [
    {
     "data": {
      "text/plain": [
       "docked_bike      2558469\n",
       "electric_bike     611406\n",
       "classic_bike      319873\n",
       "Name: rideable_type, dtype: int64"
      ]
     },
     "execution_count": 8,
     "metadata": {},
     "output_type": "execute_result"
    }
   ],
   "source": [
    "main_df.rideable_type.value_counts()"
   ]
  },
  {
   "cell_type": "code",
   "execution_count": 9,
   "metadata": {
    "scrolled": true
   },
   "outputs": [
    {
     "data": {
      "text/plain": [
       "electric_bike    189620\n",
       "docked_bike        4178\n",
       "classic_bike       1259\n",
       "Name: rideable_type, dtype: int64"
      ]
     },
     "execution_count": 9,
     "metadata": {},
     "output_type": "execute_result"
    }
   ],
   "source": [
    "nan_df.rideable_type.value_counts()"
   ]
  },
  {
   "cell_type": "markdown",
   "metadata": {},
   "source": [
    "Significant portion of missing value's from electric_bike.\n",
    "This is because electric_bike can be parked anywhere, not necessarily at a docking station."
   ]
  },
  {
   "cell_type": "code",
   "execution_count": 10,
   "metadata": {
    "scrolled": true
   },
   "outputs": [
    {
     "data": {
      "text/plain": [
       "5.589429380001078"
      ]
     },
     "execution_count": 10,
     "metadata": {},
     "output_type": "execute_result"
    }
   ],
   "source": [
    "195057 / 3489748 * 100"
   ]
  },
  {
   "cell_type": "markdown",
   "metadata": {},
   "source": [
    "The original data had 3489748 rows and the data with no NaN has 3294691 rows.\n",
    "\n",
    "Since the eliminated data is mere 5.5%, and electric bikes serve the exact same purpose as any other types of bikes, we will continue to analysis without considering the rows with NaN."
   ]
  },
  {
   "cell_type": "markdown",
   "metadata": {},
   "source": [
    "Use dropna() to delete all rows with NaN value."
   ]
  },
  {
   "cell_type": "code",
   "execution_count": 11,
   "metadata": {
    "scrolled": true
   },
   "outputs": [],
   "source": [
    "main_df.dropna(inplace=True)"
   ]
  },
  {
   "cell_type": "markdown",
   "metadata": {},
   "source": [
    "<br>"
   ]
  },
  {
   "cell_type": "markdown",
   "metadata": {},
   "source": [
    "We'll create a column named \"ride_length.\" This column can be calculated by subtracting the column \"started_at\" from the column \"ended_at.\""
   ]
  },
  {
   "cell_type": "code",
   "execution_count": 12,
   "metadata": {},
   "outputs": [],
   "source": [
    "main_df['ride_length'] = main_df['ended_at'] - main_df['started_at']"
   ]
  },
  {
   "cell_type": "markdown",
   "metadata": {},
   "source": [
    "Also, let's convert ride_length's unit to minute"
   ]
  },
  {
   "cell_type": "code",
   "execution_count": 13,
   "metadata": {},
   "outputs": [],
   "source": [
    "main_df['ride_length'] = main_df['ride_length'].dt.seconds//60"
   ]
  },
  {
   "cell_type": "markdown",
   "metadata": {},
   "source": [
    "If ride_length is more than 80 min, we'll consider it unreturned, and delete these outliars."
   ]
  },
  {
   "cell_type": "code",
   "execution_count": 14,
   "metadata": {},
   "outputs": [],
   "source": [
    "main_df.drop(main_df.loc[main_df['ride_length'] > 80].index, inplace=True)"
   ]
  },
  {
   "cell_type": "markdown",
   "metadata": {},
   "source": [
    "Next, we'll create a column named “day_of_week.” where Monday=0, and Sunday=6."
   ]
  },
  {
   "cell_type": "code",
   "execution_count": 15,
   "metadata": {},
   "outputs": [],
   "source": [
    "main_df['day_of_week'] = main_df.started_at.dt.dayofweek"
   ]
  },
  {
   "cell_type": "markdown",
   "metadata": {},
   "source": [
    "<br>"
   ]
  },
  {
   "cell_type": "markdown",
   "metadata": {},
   "source": [
    "### Exploratory Data Analysis"
   ]
  },
  {
   "cell_type": "code",
   "execution_count": 16,
   "metadata": {},
   "outputs": [],
   "source": [
    "# Compare members and casual users's ride_length\n",
    "\n",
    "member_ride_length = main_df.loc[main_df.member_casual == 'member'].ride_length\n",
    "casual_ride_length = main_df.loc[main_df.member_casual == 'casual'].ride_length"
   ]
  },
  {
   "cell_type": "code",
   "execution_count": 66,
   "metadata": {
    "scrolled": false
   },
   "outputs": [
    {
     "data": {
      "image/png": "[encoded data removed]",
      "text/plain": [
       "<Figure size 576x396 with 1 Axes>"
      ]
     },
     "metadata": {},
     "output_type": "display_data"
    }
   ],
   "source": [
    "plt.hist(member_ride_length, bins=80, edgecolor='black', alpha=0.5, label='members', color='blue')\n",
    "plt.hist(casual_ride_length, bins=80, edgecolor='black', alpha=0.5, label='casual', color='orange')\n",
    "plt.axvline(member_ride_length.mean(), color='blue', label='member ride length median', linewidth=1)\n",
    "plt.axvline(casual_ride_length.mean(), color='orange', label='casual ride length median', linewidth=1)\n",
    "plt.legend(loc='upper right')\n",
    "\n",
    "plt.title('ride length: member vs casual')\n",
    "plt.xlabel('ride_length')\n",
    "plt.ylabel('ride_count')\n",
    "plt.tight_layout()\n",
    "plt.style.use('seaborn');"
   ]
  },
  {
   "cell_type": "markdown",
   "metadata": {},
   "source": [
    "Casual riders tend to ride longer with the median of ~24 min as opposed to members with median of ~14 min"
   ]
  },
  {
   "cell_type": "code",
   "execution_count": 93,
   "metadata": {},
   "outputs": [
    {
     "data": {
      "image/png": "[encoded data removed]",
      "text/plain": [
       "<Figure size 576x396 with 2 Axes>"
      ]
     },
     "metadata": {},
     "output_type": "display_data"
    }
   ],
   "source": [
    "objects = ('member','casual')\n",
    "y_pos = np.arange(len(objects))\n",
    "val1 = [member_ride_length.sum(),casual_ride_length.sum()]\n",
    "val2 = [member_ride_length.count(), casual_ride_length.count()]\n",
    "\n",
    "fig, (ax1, ax2) = plt.subplots(nrows=1, ncols=2) \n",
    "\n",
    "ax1.bar(objects,val1, alpha=0.5, color=['blue','orange'])\n",
    "ax1.set_ylabel('ride length(min)')\n",
    "ax1.set_title('cumulative ride time');\n",
    "\n",
    "ax2.bar(objects,val2, alpha=0.5, color=['blue','orange'])\n",
    "ax2.set_ylabel('ride count')\n",
    "ax2.set_title('ride count');\n",
    "\n",
    "plt.tight_layout()"
   ]
  },
  {
   "cell_type": "code",
   "execution_count": 107,
   "metadata": {
    "scrolled": true
   },
   "outputs": [
    {
     "data": {
      "text/plain": [
       "0.36859856663923907"
      ]
     },
     "execution_count": 107,
     "metadata": {},
     "output_type": "execute_result"
    }
   ],
   "source": [
    "c = casual_ride_length.count()\n",
    "m = member_ride_length.count()\n",
    "(m - c) / m"
   ]
  },
  {
   "cell_type": "markdown",
   "metadata": {},
   "source": [
    "Memberse have higher cumulative ride time compared to the casual riders by a small margin, but mebers ride 37% more frequently than the casual riders."
   ]
  },
  {
   "cell_type": "markdown",
   "metadata": {},
   "source": [
    "### Conclusion"
   ]
  },
  {
   "cell_type": "code",
   "execution_count": null,
   "metadata": {},
   "outputs": [],
   "source": []
  }
 ],
 "metadata": {
  "kernelspec": {
   "display_name": "Python 3",
   "language": "python",
   "name": "python3"
  },
  "language_info": {
   "codemirror_mode": {
    "name": "ipython",
    "version": 3
   },
   "file_extension": ".py",
   "mimetype": "text/x-python",
   "name": "python",
   "nbconvert_exporter": "python",
   "pygments_lexer": "ipython3",
   "version": "3.8.2"
  }
 },
 "nbformat": 4,
 "nbformat_minor": 4
}
